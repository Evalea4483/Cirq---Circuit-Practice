{
 "cells": [
  {
   "cell_type": "markdown",
   "metadata": {},
   "source": [
    "Circuit building practice and graphing data. "
   ]
  },
  {
   "cell_type": "code",
   "execution_count": 2,
   "metadata": {},
   "outputs": [],
   "source": [
    "#Importing libraries and setting up the Binary_labels function\n",
    "import random\n",
    "import matplotlib.pyplot as plt\n",
    "import numpy as np\n",
    "import cirq\n",
    "\n",
    "def binary_labels(num_qubits):\n",
    "    return [bin(x)[2:].zfill(num_qubits) for x in range(2 ** num_qubits)]\n",
    "plt.rcParams.update({'font.size': 8})"
   ]
  },
  {
   "cell_type": "code",
   "execution_count": 3,
   "metadata": {},
   "outputs": [
    {
     "name": "stdout",
     "output_type": "stream",
     "text": [
      "0.71|0⟩ + 0.71|1⟩\n"
     ]
    }
   ],
   "source": [
    "vec = [1/np.sqrt(2), 1/np.sqrt(2)]\n",
    "print(cirq.dirac_notation(vec))"
   ]
  },
  {
   "cell_type": "code",
   "execution_count": 4,
   "metadata": {},
   "outputs": [
    {
     "name": "stdout",
     "output_type": "stream",
     "text": [
      "q0: ───H───@───────────\n",
      "           │\n",
      "q1: ───────X───@───────\n",
      "               │\n",
      "q2: ───────────X───@───\n",
      "                   │\n",
      "q3: ───────────────X───\n"
     ]
    }
   ],
   "source": [
    "num_qubits = 4\n",
    "qubits = cirq.NamedQubit.range(num_qubits, prefix = 'q')\n",
    "circuit = cirq.Circuit()\n",
    "circuit.append(cirq.H(qubits[0]))\n",
    "\n",
    "for i in range(num_qubits - 1):\n",
    "  circuit.append(cirq.CNOT(qubits[i], qubits[i+1]))\n",
    "\n",
    "print(circuit)"
   ]
  },
  {
   "cell_type": "code",
   "execution_count": 5,
   "metadata": {},
   "outputs": [
    {
     "name": "stdout",
     "output_type": "stream",
     "text": [
      "0.71|0000⟩ + 0.71|1111⟩\n"
     ]
    }
   ],
   "source": [
    "sv = cirq.final_state_vector(circuit)\n",
    "print(cirq.dirac_notation(sv))"
   ]
  },
  {
   "cell_type": "markdown",
   "metadata": {},
   "source": [
    "Building circuits with X, H, Z, and CNOT gates with measurement results"
   ]
  },
  {
   "cell_type": "code",
   "execution_count": 6,
   "metadata": {},
   "outputs": [],
   "source": [
    "my_qubits = cirq.NamedQubit.range(3, prefix = \"q\")\n",
    "my_circuit = cirq.Circuit()\n",
    "\n",
    "my_circuit.append(cirq.H(my_qubits[0]))\n",
    "my_circuit.append(cirq.CNOT(my_qubits[0], my_qubits[1]))\n",
    "\n",
    "my_circuit.append(cirq.X(my_qubits[2]))\n",
    "my_circuit.append(cirq.CNOT(my_qubits[0], my_qubits[2]))"
   ]
  },
  {
   "cell_type": "code",
   "execution_count": 7,
   "metadata": {},
   "outputs": [],
   "source": [
    "for i in range(3):\n",
    "    my_circuit.append(cirq.measure(my_qubits[i]))"
   ]
  },
  {
   "cell_type": "code",
   "execution_count": 8,
   "metadata": {},
   "outputs": [
    {
     "name": "stdout",
     "output_type": "stream",
     "text": [
      "               ┌──┐\n",
      "q0: ───H───@────@─────M───\n",
      "           │    │\n",
      "q1: ───────X────┼M────────\n",
      "                │\n",
      "q2: ───X────────X─────M───\n",
      "               └──┘\n",
      "q0=1101100011111110010010011100111101010010101011111110111000100111110001111011111000110010001000010100\n",
      "q1=1101100011111110010010011100111101010010101011111110111000100111110001111011111000110010001000010100\n",
      "q2=0010011100000001101101100011000010101101010100000001000111011000001110000100000111001101110111101011\n"
     ]
    }
   ],
   "source": [
    "print(my_circuit)\n",
    "\n",
    "sim = cirq.Simulator()\n",
    "\n",
    "results = sim.run(my_circuit, repetitions = 100)\n",
    "print(results)"
   ]
  },
  {
   "cell_type": "code",
   "execution_count": 9,
   "metadata": {},
   "outputs": [
    {
     "data": {
      "image/png": "[encoded data removed]",
      "text/plain": [
       "<Figure size 640x480 with 1 Axes>"
      ]
     },
     "metadata": {},
     "output_type": "display_data"
    }
   ],
   "source": [
    "hist = cirq.plot_state_histogram(results, plt.subplot(), title = 'Qubit States', xlabel = 'States', ylabel = 'Occurrences', tick_label=binary_labels(3))\n",
    "\n",
    "plt.show()"
   ]
  },
  {
   "cell_type": "code",
   "execution_count": 18,
   "metadata": {},
   "outputs": [],
   "source": [
    "my_qubits = cirq.NamedQubit.range(4, prefix = \"q\")\n",
    "my_circuit = cirq.Circuit()\n",
    "\n",
    "for i in range(4):\n",
    "    my_circuit.append(cirq.H(my_qubits[i]))\n",
    "    my_circuit.append(cirq.Z(my_qubits[i]))\n"
   ]
  },
  {
   "cell_type": "code",
   "execution_count": 19,
   "metadata": {},
   "outputs": [],
   "source": [
    "for i in range(4):\n",
    "    my_circuit.append(cirq.measure(my_qubits[i]))"
   ]
  },
  {
   "cell_type": "code",
   "execution_count": 13,
   "metadata": {},
   "outputs": [
    {
     "name": "stdout",
     "output_type": "stream",
     "text": [
      "0.25|0000⟩ - 0.25|0001⟩ - 0.25|0010⟩ + 0.25|0011⟩ - 0.25|0100⟩ + 0.25|0101⟩ + 0.25|0110⟩ - 0.25|0111⟩ - 0.25|1000⟩ + 0.25|1001⟩ + 0.25|1010⟩ - 0.25|1011⟩ + 0.25|1100⟩ - 0.25|1101⟩ - 0.25|1110⟩ + 0.25|1111⟩\n"
     ]
    }
   ],
   "source": [
    "sv = cirq.final_state_vector(my_circuit)\n",
    "print(cirq.dirac_notation(sv))"
   ]
  },
  {
   "cell_type": "code",
   "execution_count": 22,
   "metadata": {},
   "outputs": [
    {
     "name": "stdout",
     "output_type": "stream",
     "text": [
      "q0=0001010000100101010111011111111011110000000001001101010000000111011001110110111101101110111011100000\n",
      "q1=0110010000110100001101110110100000001011011001000011100111101011100101000111110101011011000001001110\n",
      "q2=0111001110111110010100100010110011000110101100000111101110001101100000111111110010101001001101010111\n",
      "q3=0011000000000011011001111010101000110011000000111000111001111100000100010110110010011011000000001010\n"
     ]
    }
   ],
   "source": [
    "sim = cirq.Simulator()\n",
    "\n",
    "result = sim.run(my_circuit, repetitions = 100)\n",
    "\n",
    "print(result)"
   ]
  },
  {
   "cell_type": "code",
   "execution_count": 23,
   "metadata": {},
   "outputs": [
    {
     "data": {
      "image/png": "[encoded data removed]",
      "text/plain": [
       "<Figure size 640x480 with 1 Axes>"
      ]
     },
     "metadata": {},
     "output_type": "display_data"
    }
   ],
   "source": [
    "hist = cirq.plot_state_histogram(result, plt.subplot(), title = 'Qubit States', xlabel = 'States', ylabel = 'Occurrences', tick_label=binary_labels(4))\n",
    "\n",
    "plt.show()"
   ]
  },
  {
   "cell_type": "code",
   "execution_count": 24,
   "metadata": {},
   "outputs": [
    {
     "data": {
      "text/html": [
       "<pre style=\"overflow: auto; white-space: pre;\">q0: ───H───@───\n",
       "           │\n",
       "q1: ───H───┼───\n",
       "           │\n",
       "q2: ───────X───</pre>"
      ],
      "text/plain": [
       "q0: ───H───@───\n",
       "           │\n",
       "q1: ───H───┼───\n",
       "           │\n",
       "q2: ───────X───"
      ]
     },
     "execution_count": 24,
     "metadata": {},
     "output_type": "execute_result"
    }
   ],
   "source": [
    "my_qubits = cirq.NamedQubit.range(3, prefix=\"q\")\n",
    "my_circuit = cirq.Circuit()\n",
    "\n",
    "for i in range(2):\n",
    "    my_circuit.append(cirq.H(my_qubits[i]))\n",
    "my_circuit.append(cirq.CNOT(my_qubits[0], my_qubits[2]))\n",
    "my_circuit"
   ]
  },
  {
   "cell_type": "code",
   "execution_count": 25,
   "metadata": {},
   "outputs": [
    {
     "name": "stdout",
     "output_type": "stream",
     "text": [
      "0.5|000⟩ + 0.5|010⟩ + 0.5|101⟩ + 0.5|111⟩\n"
     ]
    }
   ],
   "source": [
    "sv = cirq.final_state_vector(my_circuit)\n",
    "print(cirq.dirac_notation(sv))"
   ]
  },
  {
   "cell_type": "code",
   "execution_count": 26,
   "metadata": {},
   "outputs": [],
   "source": [
    "for i in range(2):\n",
    "    my_circuit.append(cirq.measure(my_qubits[i]))"
   ]
  },
  {
   "cell_type": "code",
   "execution_count": 28,
   "metadata": {},
   "outputs": [
    {
     "name": "stdout",
     "output_type": "stream",
     "text": [
      "q0=1011101001111101101011000110011010100001000010101001100001010101010010011010001010011101111111111000\n",
      "q1=1010100101110110100101100011010010001110000110000011010111110100110111110000101000001101111111101001\n"
     ]
    }
   ],
   "source": [
    "sim = cirq.Simulator()\n",
    "result = sim.run(my_circuit, repetitions = 100)\n",
    "\n",
    "print(result)"
   ]
  },
  {
   "cell_type": "code",
   "execution_count": 30,
   "metadata": {},
   "outputs": [
    {
     "data": {
      "image/png": "[encoded data removed]",
      "text/plain": [
       "<Figure size 640x480 with 1 Axes>"
      ]
     },
     "metadata": {},
     "output_type": "display_data"
    }
   ],
   "source": [
    "hist = cirq.plot_state_histogram(result, plt.subplot(), title = \"Qubit states\", xlabel = \"States\", ylabel = \"Occurrences\", tick_label = binary_labels(2))\n",
    "plt.show()"
   ]
  }
 ],
 "metadata": {
  "kernelspec": {
   "display_name": "Python 3",
   "language": "python",
   "name": "python3"
  },
  "language_info": {
   "codemirror_mode": {
    "name": "ipython",
    "version": 3
   },
   "file_extension": ".py",
   "mimetype": "text/x-python",
   "name": "python",
   "nbconvert_exporter": "python",
   "pygments_lexer": "ipython3",
   "version": "3.12.2"
  }
 },
 "nbformat": 4,
 "nbformat_minor": 2
}
